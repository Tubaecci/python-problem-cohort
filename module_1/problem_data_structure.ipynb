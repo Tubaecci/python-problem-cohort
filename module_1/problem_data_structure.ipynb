{
 "cells": [
  {
   "cell_type": "markdown",
   "id": "21e0a50a",
   "metadata": {},
   "source": [
    "### Problem 1: Cryptocurrency Token Data\n",
    "This data structure represents information about different cryptocurrency tokens listed on a decentralized exchange (DEX).\n"
   ]
  },
  {
   "cell_type": "code",
   "execution_count": 3,
   "id": "d8c775f2",
   "metadata": {},
   "outputs": [
    {
     "name": "stdout",
     "output_type": "stream",
     "text": [
      "[{'name': 'Token A', 'symbol': 'TKA', 'blockchain': 'Ethereum', 'current_price_usd': 100.0, 'transaction_history': [{'date': '2024-01-10', 'prices': {'open': 98.0, 'close': 100.0, 'high': 101.0, 'low': 97.0}, 'volume': 12000}, {'date': '2024-01-09', 'prices': {'open': 97.0, 'close': 98.0, 'high': 99.0, 'low': 96.0}, 'volume': 15000}], 'supported_chains': ['Ethereum', 'Polygon']}, {'name': 'Token B', 'symbol': 'TKB', 'blockchain': 'Binance Smart Chain', 'current_price_usd': 200.0, 'transaction_history': [{'date': '2024-01-10', 'prices': {'open': 198.0, 'close': 200.0, 'high': 202.0, 'low': 196.0}, 'volume': 18000}, {'date': '2024-01-09', 'prices': {'open': 196.0, 'close': 198.0, 'high': 199.0, 'low': 195.0}, 'volume': 17000}], 'supported_chains': ['Binance Smart Chain', 'Avalanche']}, {'name': 'Token C', 'symbol': 'TKC', 'blockchain': 'Solana', 'current_price_usd': 300.0, 'transaction_history': [{'date': '2024-01-10', 'prices': {'open': 295.0, 'close': 300.0, 'high': 302.0, 'low': 294.0}, 'volume': 22000}, {'date': '2024-01-09', 'prices': {'open': 294.0, 'close': 295.0, 'high': 296.0, 'low': 293.0}, 'volume': 21000}], 'supported_chains': ['Solana', 'Fantom']}]\n"
     ]
    }
   ],
   "source": [
    "crypto_tokens = [\n",
    "    {\n",
    "        \"name\": \"Token A\",\n",
    "        \"symbol\": \"TKA\",\n",
    "        \"blockchain\": \"Ethereum\",\n",
    "        \"current_price_usd\": 100.0,\n",
    "        \"transaction_history\": [\n",
    "            {\n",
    "                \"date\": \"2024-01-10\",\n",
    "                \"prices\": {\n",
    "                    \"open\": 98.0,\n",
    "                    \"close\": 100.0,\n",
    "                    \"high\": 101.0,\n",
    "                    \"low\": 97.0\n",
    "                },\n",
    "                \"volume\": 12000\n",
    "            },\n",
    "            {\n",
    "                \"date\": \"2024-01-09\",\n",
    "                \"prices\": {\n",
    "                    \"open\": 97.0,\n",
    "                    \"close\": 98.0,\n",
    "                    \"high\": 99.0,\n",
    "                    \"low\": 96.0\n",
    "                },\n",
    "                \"volume\": 15000\n",
    "            }\n",
    "        ],\n",
    "        \"supported_chains\": [\"Ethereum\", \"Polygon\"]\n",
    "    },\n",
    "    {\n",
    "        \"name\": \"Token B\",\n",
    "        \"symbol\": \"TKB\",\n",
    "        \"blockchain\": \"Binance Smart Chain\",\n",
    "        \"current_price_usd\": 200.0,\n",
    "        \"transaction_history\": [\n",
    "            {\n",
    "                \"date\": \"2024-01-10\",\n",
    "                \"prices\": {\n",
    "                    \"open\": 198.0,\n",
    "                    \"close\": 200.0,\n",
    "                    \"high\": 202.0,\n",
    "                    \"low\": 196.0\n",
    "                },\n",
    "                \"volume\": 18000\n",
    "            },\n",
    "            {\n",
    "                \"date\": \"2024-01-09\",\n",
    "                \"prices\": {\n",
    "                    \"open\": 196.0,\n",
    "                    \"close\": 198.0,\n",
    "                    \"high\": 199.0,\n",
    "                    \"low\": 195.0\n",
    "                },\n",
    "                \"volume\": 17000\n",
    "            }\n",
    "        ],\n",
    "        \"supported_chains\": [\"Binance Smart Chain\", \"Avalanche\"]\n",
    "    },\n",
    "    {\n",
    "        \"name\": \"Token C\",\n",
    "        \"symbol\": \"TKC\",\n",
    "        \"blockchain\": \"Solana\",\n",
    "        \"current_price_usd\": 300.0,\n",
    "        \"transaction_history\": [\n",
    "            {\n",
    "                \"date\": \"2024-01-10\",\n",
    "                \"prices\": {\n",
    "                    \"open\": 295.0,\n",
    "                    \"close\": 300.0,\n",
    "                    \"high\": 302.0,\n",
    "                    \"low\": 294.0\n",
    "                },\n",
    "                \"volume\": 22000\n",
    "            },\n",
    "            {\n",
    "                \"date\": \"2024-01-09\",\n",
    "                \"prices\": {\n",
    "                    \"open\": 294.0,\n",
    "                    \"close\": 295.0,\n",
    "                    \"high\": 296.0,\n",
    "                    \"low\": 293.0\n",
    "                },\n",
    "                \"volume\": 21000\n",
    "            }\n",
    "        ],\n",
    "        \"supported_chains\": [\"Solana\", \"Fantom\"]\n",
    "    }\n",
    "]\n",
    "print(crypto_tokens)\n"
   ]
  },
  {
   "cell_type": "code",
   "execution_count": 6,
   "id": "a6397462",
   "metadata": {},
   "outputs": [
    {
     "name": "stdout",
     "output_type": "stream",
     "text": [
      "200.0\n"
     ]
    }
   ],
   "source": [
    "# Q1: Read Data  \n",
    "# Task: Display the current price of \"Token B\".\n",
    "print(crypto_tokens[1]['current_price_usd'])\n"
   ]
  },
  {
   "cell_type": "code",
   "execution_count": 9,
   "id": "a189eece",
   "metadata": {},
   "outputs": [],
   "source": [
    "# Q2: Write Data  \n",
    "# Task: Add a new token \"Token D\" with some initial data to the `crypto_tokens` list.\n",
    "crypto_tokens.append(\n",
    "        {\n",
    "        \"name\": \"Token D\",\n",
    "        \"symbol\": \"PEPE\",\n",
    "        \"blockchain\": \"Solana\",\n",
    "        \"current_price_usd\": 3.5,\n",
    "        \"transaction_history\": [\n",
    "            {\n",
    "                \"date\": \"2025-01-10\",\n",
    "                \"prices\": {\n",
    "                    \"open\": 3.1,\n",
    "                    \"close\": 3.5,\n",
    "                    \"high\": 3.6,\n",
    "                    \"low\": 2.9\n",
    "                },\n",
    "                \"volume\": 4000\n",
    "            },\n",
    "            {\n",
    "                \"date\": \"2025-01-09\",\n",
    "                \"prices\": {\n",
    "                    \"open\": 3.0,\n",
    "                    \"close\": 3.1,\n",
    "                    \"high\": 3.9,\n",
    "                    \"low\": 2.9\n",
    "                },\n",
    "                \"volume\": 5000\n",
    "            }\n",
    "        ],\n",
    "        \"supported_chains\": [\"Solana\", \"Base\"]\n",
    "    }\n",
    ")"
   ]
  },
  {
   "cell_type": "code",
   "execution_count": 17,
   "id": "85a257c9",
   "metadata": {},
   "outputs": [
    {
     "data": {
      "text/plain": [
       "310.0"
      ]
     },
     "execution_count": 17,
     "metadata": {},
     "output_type": "execute_result"
    }
   ],
   "source": [
    "# Q3: Update Data  \n",
    "# Task: Update the current price of \"Token C\" to 310.0.\n",
    "\n",
    "crypto_tokens[2]['current_price_usd'] = 310.0\n",
    "crypto_tokens[2]['current_price_usd'] \n"
   ]
  },
  {
   "cell_type": "code",
   "execution_count": 19,
   "id": "5956e3c0",
   "metadata": {},
   "outputs": [
    {
     "name": "stdout",
     "output_type": "stream",
     "text": [
      "[{'date': '2024-01-10', 'prices': {'open': 98.0, 'close': 100.0, 'high': 101.0, 'low': 97.0}, 'volume': 12000}]\n"
     ]
    }
   ],
   "source": [
    "# Q4: Delete Data  \n",
    "# Task: Remove the transaction history for \"Token A\" on \"2024-01-09\".\n",
    "\n",
    "crypto_tokens[0]['transaction_history'] = [\n",
    "            {\n",
    "                \"date\": \"2024-01-10\",\n",
    "                \"prices\": {\n",
    "                    \"open\": 98.0,\n",
    "                    \"close\": 100.0,\n",
    "                    \"high\": 101.0,\n",
    "                    \"low\": 97.0\n",
    "                },\n",
    "                \"volume\": 12000\n",
    "            }\n",
    "        ]\n",
    "print(crypto_tokens[0]['transaction_history']) "
   ]
  },
  {
   "cell_type": "code",
   "execution_count": 25,
   "id": "1db938f7",
   "metadata": {},
   "outputs": [
    {
     "data": {
      "text/plain": [
       "200.0"
      ]
     },
     "execution_count": 25,
     "metadata": {},
     "output_type": "execute_result"
    }
   ],
   "source": [
    "# Q5: Read Nested Data  \n",
    "# Task: Display the closing price of \"Token B\" on \"2024-01-10\".\n",
    "crypto_tokens[1][\"transaction_history\"][0][\"prices\"][\"close\"]\n"
   ]
  },
  {
   "cell_type": "code",
   "execution_count": 32,
   "id": "8ddaeb3f",
   "metadata": {},
   "outputs": [
    {
     "data": {
      "text/plain": [
       "99.0"
      ]
     },
     "execution_count": 32,
     "metadata": {},
     "output_type": "execute_result"
    }
   ],
   "source": [
    "# Q6: Update Nested Data  \n",
    "# Task: Change the opening price of \"Token A\" on \"2024-01-10\" to 99.0.\n",
    "\n",
    "crypto_tokens[0][\"transaction_history\"][0][\"prices\"][\"open\"] = 99.0\n",
    "crypto_tokens[0][\"transaction_history\"][0][\"prices\"][\"open\"]"
   ]
  },
  {
   "cell_type": "code",
   "execution_count": 37,
   "id": "671f7a30",
   "metadata": {},
   "outputs": [],
   "source": [
    "# Q7: Add Nested Data  \n",
    "# Task: Add a new transaction history entry for \"Token C\" on \"2024-01-11\".\n",
    "crypto_tokens[2][\"transaction_history\"].append(          {\n",
    "                \"date\": \"2024-01-11\",\n",
    "                \"prices\": {\n",
    "                    \"open\": 202.0,\n",
    "                    \"close\": 204.0,\n",
    "                    \"high\": 204.0,\n",
    "                    \"low\": 201.0\n",
    "                },\n",
    "                \"volume\": 20000\n",
    "            }\n",
    ")"
   ]
  },
  {
   "cell_type": "code",
   "execution_count": 48,
   "id": "92d337cc",
   "metadata": {},
   "outputs": [],
   "source": [
    "# Q8: Delete an Item from a List Inside a Dictionary  \n",
    "# Task: Remove \"Avalanche\" from the supported chains of \"Token B\".\n",
    "crypto_tokens[1][\"supported_chains\"].remove('Avalanche')"
   ]
  }
 ],
 "metadata": {
  "kernelspec": {
   "display_name": "python_assignment",
   "language": "python",
   "name": "python3"
  },
  "language_info": {
   "codemirror_mode": {
    "name": "ipython",
    "version": 3
   },
   "file_extension": ".py",
   "mimetype": "text/x-python",
   "name": "python",
   "nbconvert_exporter": "python",
   "pygments_lexer": "ipython3",
   "version": "3.11.9"
  }
 },
 "nbformat": 4,
 "nbformat_minor": 5
}
