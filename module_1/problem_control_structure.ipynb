{
 "cells": [
  {
   "cell_type": "markdown",
   "id": "e5823341",
   "metadata": {},
   "source": [
    "# Python Problems For Control Structure\n"
   ]
  },
  {
   "cell_type": "markdown",
   "id": "5f1ffb9c",
   "metadata": {},
   "source": [
    "### LOOPS (Iteration-based problems)\n",
    "\n",
    "\n"
   ]
  },
  {
   "cell_type": "markdown",
   "id": "d94cebb0",
   "metadata": {},
   "source": [
    "1. Daily Gas Fee Average\n",
    " Description: Calculate the average gas fee from a list of daily Ethereum gas fees.\n",
    " Input: List of gas fees (e.g., [30, 40, 35, 50, 45])\n",
    " Output: Average gas fee (e.g., 40.0)\n",
    " "
   ]
  },
  {
   "cell_type": "code",
   "execution_count": 9,
   "id": "edc932b0",
   "metadata": {},
   "outputs": [
    {
     "name": "stdout",
     "output_type": "stream",
     "text": [
      "avg gas fee is 40.0\n"
     ]
    }
   ],
   "source": [
    "gas_fees = [30, 40, 35, 50, 45]\n",
    "total = 0\n",
    "for i in gas_fees:\n",
    "    total = total + i\n",
    "avg_gas_fee = total / len(gas_fees)\n",
    "print('avg gas fee is', avg_gas_fee) "
   ]
  },
  {
   "cell_type": "markdown",
   "id": "84cda471",
   "metadata": {},
   "source": [
    "2. Highest Daily Transaction Count\n",
    " Description: Find the day with the highest number of transactions on a blockchain.\n",
    " Input: List of daily transaction counts (e.g., [1200, 1400, 1350, 1600, 1100])\n",
    " Output: Day with the highest transaction count (e.g., Day 4)\n"
   ]
  },
  {
   "cell_type": "code",
   "execution_count": 54,
   "id": "599cf40b",
   "metadata": {},
   "outputs": [
    {
     "name": "stdout",
     "output_type": "stream",
     "text": [
      "Day 4\n"
     ]
    }
   ],
   "source": [
    "transaction_count = [1200, 1400, 1350, 1600, 1100]\n",
    "for i in transaction_count:\n",
    "    max_count = transaction_count.index(max(transaction_count))\n",
    "print('Day', max_count + 1)"
   ]
  },
  {
   "cell_type": "markdown",
   "id": "b056c451",
   "metadata": {},
   "source": [
    "3. Find Token Min/Max Price\n",
    " Description: Determine the lowest and highest price of a token over a week.\n",
    " Input: List of prices (e.g., [2.1, 2.5, 2.0, 2.8, 2.6])\n",
    " Output: Min: 2.0, Max: 2.8\n"
   ]
  },
  {
   "cell_type": "code",
   "execution_count": 53,
   "id": "766d9158",
   "metadata": {},
   "outputs": [
    {
     "name": "stdout",
     "output_type": "stream",
     "text": [
      "Min: 2.8\n"
     ]
    }
   ],
   "source": [
    "prices =  [2.1, 2.5, 2.0, 2.8, 2.6]\n",
    "\n",
    "for i in prices:\n",
    "    lowest_price = max(prices)\n",
    "print('Min:', lowest_price)"
   ]
  },
  {
   "cell_type": "code",
   "execution_count": 52,
   "id": "6407a641",
   "metadata": {},
   "outputs": [
    {
     "name": "stdout",
     "output_type": "stream",
     "text": [
      "Max: 2.8\n"
     ]
    }
   ],
   "source": [
    "prices =  [2.1, 2.5, 2.0, 2.8, 2.6]\n",
    "\n",
    "for i in prices:\n",
    "    highest_price = max(prices)\n",
    "print('Max:', highest_price)"
   ]
  },
  {
   "cell_type": "markdown",
   "id": "e4d54c4e",
   "metadata": {},
   "source": [
    "4. Simple Moving Average for Token Price\n",
    " Description: Compute the simple moving average of a token’s price for a given window.\n",
    " Input: Prices (e.g., [1.0, 1.2, 1.3, 1.4, 1.6]), Window size (e.g., 3)\n",
    " Output: List of moving averages (e.g., [1.17, 1.3, 1.43])"
   ]
  },
  {
   "cell_type": "code",
   "execution_count": 94,
   "id": "891d4222",
   "metadata": {},
   "outputs": [
    {
     "name": "stdout",
     "output_type": "stream",
     "text": [
      "0.2\n",
      "0.44\n",
      "0.7\n",
      "0.98\n",
      "1.3\n"
     ]
    }
   ],
   "source": [
    "prices =  [1.0, 1.2, 1.3, 1.4, 1.6]\n",
    "total = 0\n",
    "for i in prices:\n",
    "    total = total + i / len(prices)\n",
    "    print(total)"
   ]
  },
  {
   "cell_type": "markdown",
   "id": "d58864cb",
   "metadata": {},
   "source": [
    "5. Count Profitable Days on DEX\n",
    " Description: Count the number of days a trader had a positive return on a DEX.\n",
    " Input: List of daily PnL (e.g., [0.03, -0.02, 0.01, 0.04, -0.01])\n",
    " Output: Number of profitable days (e.g., 3 days)"
   ]
  },
  {
   "cell_type": "code",
   "execution_count": 63,
   "id": "40ce4172",
   "metadata": {},
   "outputs": [
    {
     "name": "stdout",
     "output_type": "stream",
     "text": [
      "3 days\n"
     ]
    }
   ],
   "source": [
    "daily_pnl = [0.03, -0.02, 0.01, 0.04, -0.01]\n",
    "profitable_days = 0\n",
    "\n",
    "for a in daily_pnl:\n",
    "    if a > 0:\n",
    "       profitable_days += 1\n",
    "print(profitable_days, 'days')"
   ]
  },
  {
   "cell_type": "markdown",
   "id": "ec034201",
   "metadata": {},
   "source": [
    "6. Average Number of Tokens Held\n",
    " Description: Calculate the average number of tokens held across wallets.\n",
    " Input: List of token holdings per wallet (e.g., [100, 200, 150, 300])\n",
    " Output: Average tokens held (e.g., 187.5)"
   ]
  },
  {
   "cell_type": "code",
   "execution_count": 75,
   "id": "4220372f",
   "metadata": {},
   "outputs": [
    {
     "name": "stdout",
     "output_type": "stream",
     "text": [
      "187.5\n"
     ]
    }
   ],
   "source": [
    "holdings = [100, 200, 150, 300]\n",
    "total = 0\n",
    "\n",
    "for a in holdings:\n",
    "    total = total + a\n",
    "list_length = len(holdings)\n",
    "avg_holdings = total / list_length\n",
    "print(avg_holdings)"
   ]
  },
  {
   "cell_type": "markdown",
   "id": "9eff1e57",
   "metadata": {},
   "source": [
    "7. Wallets Above Holding Threshold\n",
    " Description: Count the number of wallets holding more than 100 tokens.\n",
    " Input: List of holdings (e.g., [50, 150, 120, 80, 200])\n",
    " Output: Number of wallets above threshold (e.g., 3 wallets)"
   ]
  },
  {
   "cell_type": "code",
   "execution_count": 83,
   "id": "22528937",
   "metadata": {},
   "outputs": [
    {
     "name": "stdout",
     "output_type": "stream",
     "text": [
      "3 wallets\n"
     ]
    }
   ],
   "source": [
    "holdings =  [50, 150, 120, 80, 200]\n",
    "above_treshold = 0\n",
    "for i in holdings:\n",
    "    if i > 100:\n",
    "        above_treshold += 1\n",
    "print(above_treshold, 'wallets')"
   ]
  },
  {
   "cell_type": "markdown",
   "id": "ba9122bb",
   "metadata": {},
   "source": [
    "8.  Description: Calculate total gas used by multiple wallets across transactions.\n",
    " Input: List of gas used per wallet (e.g., [21000, 50000, 32000])\n",
    " Output: Total gas used (e.g., 103000)"
   ]
  },
  {
   "cell_type": "code",
   "execution_count": 90,
   "id": "a69398ca",
   "metadata": {},
   "outputs": [
    {
     "name": "stdout",
     "output_type": "stream",
     "text": [
      "103000\n"
     ]
    }
   ],
   "source": [
    "gas_used =  [21000, 50000, 32000]\n",
    "total_gas_used = 0\n",
    "for i in gas_used:\n",
    "    total_gas_used = total_gas_used + i\n",
    "print(total_gas_used)\n",
    "\n"
   ]
  },
  {
   "cell_type": "markdown",
   "id": "5a611562",
   "metadata": {},
   "source": [
    "9. Cumulative Token Airdrop\n",
    " Description: Calculate the total tokens distributed in an airdrop across multiple addresses.\n",
    " Input: List of airdrop amounts (e.g., [50, 75, 100, 25])\n",
    " Output: Total tokens distributed (e.g., 250)\n"
   ]
  },
  {
   "cell_type": "code",
   "execution_count": 97,
   "id": "ba0b316d",
   "metadata": {},
   "outputs": [
    {
     "name": "stdout",
     "output_type": "stream",
     "text": [
      "250\n"
     ]
    }
   ],
   "source": [
    "amount = [50, 75, 100, 25]\n",
    "total_amount = 0\n",
    "for x in amount:\n",
    "    total_amount = total_amount + x # accumulates the total\n",
    "print(total_amount)"
   ]
  },
  {
   "cell_type": "markdown",
   "id": "7c1aec09",
   "metadata": {},
   "source": [
    "10. Average Bridge Fee Across Chains\n",
    " Description: Find the average fee users pay when bridging tokens across chains.\n",
    " Input: List of fees (e.g., [1.2, 0.8, 1.0, 1.5])\n",
    " Output: Average fee (e.g., 1.125)"
   ]
  },
  {
   "cell_type": "code",
   "execution_count": 99,
   "id": "22d2af5a",
   "metadata": {},
   "outputs": [
    {
     "name": "stdout",
     "output_type": "stream",
     "text": [
      "1.125\n"
     ]
    }
   ],
   "source": [
    "fees =  [1.2, 0.8, 1.0, 1.5]\n",
    "total_fees = 0\n",
    "for a in fees:\n",
    "    total_fees = total_fees + a\n",
    "avg_fees = total_fees / len(fees)\n",
    "print(avg_fees)"
   ]
  },
  {
   "cell_type": "markdown",
   "id": "4834d249",
   "metadata": {},
   "source": [
    "### CONDITIONAL STATEMENTS (Decision-making problems)"
   ]
  },
  {
   "cell_type": "markdown",
   "id": "424fdb41",
   "metadata": {},
   "source": [
    "11. Token Price Classification\n",
    " Description: Classify a token’s price movement as “Bullish” if it increased, “Bearish” if decreased.\n",
    " Input: Previous price (e.g., 2.0), Current price (e.g., 2.3)\n",
    " Output: Bullish"
   ]
  },
  {
   "cell_type": "code",
   "execution_count": 106,
   "id": "e2b6a42e",
   "metadata": {},
   "outputs": [
    {
     "name": "stdout",
     "output_type": "stream",
     "text": [
      "Bullish\n"
     ]
    }
   ],
   "source": [
    "previous_price = 2.0\n",
    "current_price = 2.3\n",
    "\n",
    "if current_price > previous_price:\n",
    "    print('Bullish')\n",
    "else: print('Bearish')"
   ]
  },
  {
   "cell_type": "markdown",
   "id": "7c449d07",
   "metadata": {},
   "source": [
    "12. Gas Fee Alert System\n",
    " Description: Alert if Ethereum gas fee exceeds a given threshold (e.g., 100 Gwei).\n",
    " Input: Gas fee (e.g., 120)\n",
    " Output: \"High gas fee alert!\""
   ]
  },
  {
   "cell_type": "code",
   "execution_count": 109,
   "id": "2bacc522",
   "metadata": {},
   "outputs": [
    {
     "name": "stdout",
     "output_type": "stream",
     "text": [
      "High gas fee alert\n"
     ]
    }
   ],
   "source": [
    "gas_fee_treshold = 120\n",
    "\n",
    "if gas_fee_treshold > 100:\n",
    "    print('High gas fee alert')\n",
    "elif gas_fee_treshold == 100:\n",
    "    print('normal gas fee')\n",
    "else: print('low gas fee alert')"
   ]
  },
  {
   "cell_type": "markdown",
   "id": "17751b0b",
   "metadata": {},
   "source": [
    "13. Detect Whale Wallet\n",
    " Description: Identify if a wallet is a whale based on token balance (>10,000 tokens).\n",
    " Input: Token balance (e.g., 15,000)\n",
    " Output: Whale wallet"
   ]
  },
  {
   "cell_type": "code",
   "execution_count": 110,
   "id": "a787bd31",
   "metadata": {},
   "outputs": [
    {
     "name": "stdout",
     "output_type": "stream",
     "text": [
      "whale wallet\n"
     ]
    }
   ],
   "source": [
    "token_balance = 15000\n",
    "\n",
    "if token_balance > 10000:\n",
    "    print('whale wallet')"
   ]
  },
  {
   "cell_type": "markdown",
   "id": "363c7671",
   "metadata": {},
   "source": [
    "14.  Description: Flag a transaction as “Suspicious” if the amount is above 1 million tokens.\n",
    " Input: Transfer amount (e.g., 1,200,000)\n",
    " Output: Suspicious"
   ]
  },
  {
   "cell_type": "code",
   "execution_count": 111,
   "id": "6ca4b4c9",
   "metadata": {},
   "outputs": [
    {
     "name": "stdout",
     "output_type": "stream",
     "text": [
      "Suspicious\n"
     ]
    }
   ],
   "source": [
    "transfer_amount = 1200000\n",
    "\n",
    "if transfer_amount > 1000000:\n",
    "    print('Suspicious')\n",
    "    "
   ]
  },
  {
   "cell_type": "markdown",
   "id": "6371c5cc",
   "metadata": {},
   "source": [
    "15. DEX Slippage Warning\n",
    " Description: Warn users if the slippage is greater than 5%.\n",
    " Input: Slippage percentage (e.g., 6.5)\n",
    " Output: \"High slippage detected\"\n"
   ]
  },
  {
   "cell_type": "code",
   "execution_count": 112,
   "id": "308f3cb7",
   "metadata": {},
   "outputs": [
    {
     "name": "stdout",
     "output_type": "stream",
     "text": [
      "High slippage detected\n"
     ]
    }
   ],
   "source": [
    "slippage = 6.5\n",
    "\n",
    "if slippage > 5:\n",
    "    print('High slippage detected')\n"
   ]
  },
  {
   "cell_type": "markdown",
   "id": "899b6ff1",
   "metadata": {},
   "source": [
    "16. NFT Mint Status Check\n",
    " Description: Check if an NFT is sold out or available for mint.\n",
    " Input: Total supply (e.g., 10,000), Minted count (e.g., 10,000)\n",
    " Output: Sold Out\n"
   ]
  },
  {
   "cell_type": "code",
   "execution_count": 118,
   "id": "983897e9",
   "metadata": {},
   "outputs": [
    {
     "name": "stdout",
     "output_type": "stream",
     "text": [
      "Sold out\n"
     ]
    }
   ],
   "source": [
    "total_supply = 10000\n",
    "\n",
    "if total_supply < 10000:\n",
    "    print('Available to mint')\n",
    "else: print('Sold out')"
   ]
  },
  {
   "cell_type": "markdown",
   "id": "1cb36da6",
   "metadata": {},
   "source": [
    "17. Stablecoin Health Check\n",
    " Description: Determine if a stablecoin is depegged (if price deviates from $1 by more than ±5%).\n",
    " Input: Stablecoin price (e.g., 0.93)\n",
    " Output: Depegged\n",
    "\n",
    "\n"
   ]
  },
  {
   "cell_type": "code",
   "execution_count": 121,
   "id": "654fcbd1",
   "metadata": {},
   "outputs": [
    {
     "name": "stdout",
     "output_type": "stream",
     "text": [
      "Depegged\n"
     ]
    }
   ],
   "source": [
    "price = 0.93\n",
    "\n",
    "if price > 1 + 0.05:\n",
    "    print('Depegged')\n",
    "elif price < 1 - 0.05:\n",
    "    print('Depegged')\n",
    "else: print('Pegged')"
   ]
  },
  {
   "cell_type": "markdown",
   "id": "add60bb2",
   "metadata": {},
   "source": [
    "18. Reward Eligibility\n",
    " Description: Check if a user qualifies for staking rewards (must stake ≥ 500 tokens).\n",
    " Input: Tokens staked (e.g., 300)\n",
    " Output: Not eligible"
   ]
  },
  {
   "cell_type": "code",
   "execution_count": 122,
   "id": "7a249193",
   "metadata": {},
   "outputs": [
    {
     "name": "stdout",
     "output_type": "stream",
     "text": [
      "Not eligible\n"
     ]
    }
   ],
   "source": [
    "tokens_staked = 300\n",
    "\n",
    "if tokens_staked >= 500:\n",
    "    print('Elibile')\n",
    "else: print('Not eligible')"
   ]
  },
  {
   "cell_type": "markdown",
   "id": "25c1a7a0",
   "metadata": {},
   "source": [
    "19. Airdrop Eligibility\n",
    " Description: Check if a wallet is eligible for airdrop (must hold a specific token and have at least 5 transactions).\n",
    " Input: Holdings (e.g., 100), Number of transactions (e.g., 6)\n",
    " Output: Eligible\n"
   ]
  },
  {
   "cell_type": "code",
   "execution_count": 123,
   "id": "78b4d59f",
   "metadata": {},
   "outputs": [
    {
     "name": "stdout",
     "output_type": "stream",
     "text": [
      "Eligible\n"
     ]
    }
   ],
   "source": [
    "holdings = 100\n",
    "number_of_transactions = 6\n",
    "\n",
    "if holdings >= 100 and number_of_transactions >= 5:\n",
    "    print('Eligible')\n",
    "else: print('Not eligible')"
   ]
  },
  {
   "cell_type": "markdown",
   "id": "9dba77d9",
   "metadata": {},
   "source": [
    "20. Transaction Fee Efficiency\n",
    " Description: Flag if a transaction fee is greater than 5% of transaction amount.\n",
    " Input: Fee (e.g., 3), Transaction amount (e.g., 50)\n",
    " Output: Efficient"
   ]
  },
  {
   "cell_type": "code",
   "execution_count": 124,
   "id": "eb80fdef",
   "metadata": {},
   "outputs": [
    {
     "name": "stdout",
     "output_type": "stream",
     "text": [
      "Efficient\n"
     ]
    }
   ],
   "source": [
    "fee = 3\n",
    "txn_amount = 50\n",
    "\n",
    "if fee > txn_amount * 0.05: # 5%\n",
    "    print('Efficient')\n",
    "else: print('Not efficient')"
   ]
  }
 ],
 "metadata": {
  "kernelspec": {
   "display_name": "python_assignment",
   "language": "python",
   "name": "python3"
  },
  "language_info": {
   "codemirror_mode": {
    "name": "ipython",
    "version": 3
   },
   "file_extension": ".py",
   "mimetype": "text/x-python",
   "name": "python",
   "nbconvert_exporter": "python",
   "pygments_lexer": "ipython3",
   "version": "3.11.9"
  }
 },
 "nbformat": 4,
 "nbformat_minor": 5
}
